{
 "cells": [
  {
   "cell_type": "code",
   "execution_count": null,
   "id": "70f0ca73",
   "metadata": {},
   "outputs": [],
   "source": [
    "import pandas as pd\n",
    "\n",
    "patients_df = pd.read_csv('subjects_diseases.csv')"
   ]
  },
  {
   "cell_type": "code",
   "execution_count": null,
   "id": "6bf5ceb8",
   "metadata": {},
   "outputs": [],
   "source": [
    "patients_df.head()"
   ]
  },
  {
   "cell_type": "code",
   "execution_count": null,
   "id": "f61c744c",
   "metadata": {},
   "outputs": [],
   "source": [
    "kidney_diseases_df = patients_df[\n",
    "    (patients_df['icd9_code'] >= '580') & (patients_df['icd9_code'] <= '589')\n",
    "]\n",
    "kidney_diseases_df"
   ]
  },
  {
   "cell_type": "code",
   "execution_count": null,
   "id": "014dede1",
   "metadata": {},
   "outputs": [],
   "source": [
    "import pandas as pd\n",
    "from sklearn.feature_extraction.text import TfidfVectorizer\n",
    "from sklearn.cluster import KMeans\n",
    "from sklearn.decomposition import PCA\n",
    "import matplotlib.pyplot as plt\n"
   ]
  },
  {
   "cell_type": "code",
   "execution_count": null,
   "id": "2ee6c908",
   "metadata": {},
   "outputs": [],
   "source": [
    "data = pd.read_csv('subjects_diseases.csv')\n"
   ]
  },
  {
   "cell_type": "code",
   "execution_count": null,
   "id": "fa71f261",
   "metadata": {},
   "outputs": [],
   "source": [
    "data['text'] = data['short_title'] + ' ' + data['long_title']"
   ]
  },
  {
   "cell_type": "code",
   "execution_count": null,
   "id": "1afffbc5",
   "metadata": {},
   "outputs": [],
   "source": [
    "vectorizer = TfidfVectorizer(stop_words='english')\n",
    "X = vectorizer.fit_transform(data['text'])\n"
   ]
  },
  {
   "cell_type": "code",
   "execution_count": null,
   "id": "06d5a57c",
   "metadata": {},
   "outputs": [],
   "source": [
    "num_clusters = 4  \n",
    "kmeans = KMeans(n_clusters=num_clusters, random_state=42)\n",
    "clusters = kmeans.fit_predict(X)\n"
   ]
  },
  {
   "cell_type": "code",
   "execution_count": null,
   "id": "8af5aef9",
   "metadata": {},
   "outputs": [],
   "source": [
    "pca = PCA(n_components=2)\n",
    "components = pca.fit_transform(X.toarray())\n",
    "\n",
    "plt.scatter(components[:, 0], components[:, 1], c=clusters, cmap='viridis')\n",
    "plt.xlabel('Principal Component 1')\n",
    "plt.ylabel('Principal Component 2')\n",
    "plt.title('Clustering Visualization')\n",
    "plt.show()\n"
   ]
  },
  {
   "cell_type": "code",
   "execution_count": null,
   "id": "475becfb",
   "metadata": {
    "scrolled": true
   },
   "outputs": [],
   "source": [
    "import numpy as np\n",
    "import editdistance\n",
    "from scipy.cluster.hierarchy import linkage, fcluster, dendrogram\n",
    "import matplotlib.pyplot as plt\n",
    "import pandas as pd\n",
    "\n",
    "# Read data from the CSV file\n",
    "data_df = pd.read_csv('subjects_diseases.csv')\n",
    "\n",
    "# Print the column names to see the actual column names\n",
    "print(data_df.columns)\n",
    "\n",
    "# Replace 'replace_with_actual_column_name' with the correct column name containing the text data\n",
    "text_column_name = 'long_title'\n",
    "data = data_df[text_column_name].tolist()\n",
    "\n",
    "# Calculate the Levenshtein distance matrix\n",
    "num_data = len(data)\n",
    "distance_matrix = np.zeros((num_data, num_data))\n",
    "for i in range(num_data):\n",
    "    for j in range(i+1, num_data):\n",
    "        distance_matrix[i, j] = editdistance.eval(data[i], data[j])\n",
    "\n",
    "# Make the matrix symmetric\n",
    "distance_matrix = distance_matrix + distance_matrix.T\n",
    "\n",
    "# Perform hierarchical clustering using complete linkage\n",
    "linkage_matrix = linkage(distance_matrix, method='complete')\n",
    "\n",
    "# Choose the number of clusters (distance threshold)\n",
    "threshold = 4  # Adjust this threshold based on your data and requirements\n",
    "\n",
    "# Use the threshold to obtain cluster assignments\n",
    "clusters = fcluster(linkage_matrix, threshold, criterion='distance')\n",
    "\n",
    "# Print the clusters\n",
    "for i, cluster_id in enumerate(clusters):\n",
    "    print(f\"Data: {data[i]}, Cluster: {cluster_id}\")\n",
    "\n",
    "# Visualize the dendrogram (optional)\n",
    "plt.figure(figsize=(12, 6))\n",
    "dendrogram(linkage_matrix, labels=data)\n",
    "plt.title('Dendrogram')\n",
    "plt.xlabel('Data')\n",
    "plt.ylabel('Levenshtein Distance')\n",
    "plt.show()\n"
   ]
  }
 ],
 "metadata": {
  "kernelspec": {
   "display_name": "Python 3 (ipykernel)",
   "language": "python",
   "name": "python3"
  },
  "language_info": {
   "codemirror_mode": {
    "name": "ipython",
    "version": 3
   },
   "file_extension": ".py",
   "mimetype": "text/x-python",
   "name": "python",
   "nbconvert_exporter": "python",
   "pygments_lexer": "ipython3",
   "version": "3.10.6"
  }
 },
 "nbformat": 4,
 "nbformat_minor": 5
}
